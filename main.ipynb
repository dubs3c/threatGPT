{
 "cells": [
  {
   "cell_type": "code",
   "execution_count": null,
   "id": "5d884b81-0e1f-4b55-9527-3f59bfccfbca",
   "metadata": {
    "tags": []
   },
   "outputs": [],
   "source": [
    "%pip install openai langchain pypdf chromadb tiktoken jupyterlab"
   ]
  },
  {
   "cell_type": "code",
   "execution_count": 1,
   "id": "82aa0c53-58a1-475c-ab1a-209d9e55cedb",
   "metadata": {},
   "outputs": [],
   "source": [
    "import os\n",
    "with open(\"openai.key\", \"r\") as f:\n",
    "    key = f.read()\n",
    "    os.environ[\"OPENAI_API_KEY\"] = key\n"
   ]
  },
  {
   "cell_type": "code",
   "execution_count": 2,
   "id": "73799274-bfbc-457d-99a8-9765ee4733d1",
   "metadata": {
    "tags": []
   },
   "outputs": [],
   "source": [
    "from pathlib import Path\n",
    "\n",
    "reports_dir = Path(\"reports/\")\n",
    "reports = []\n",
    "for file in reports_dir.iterdir():\n",
    "    reports.append(str(file))"
   ]
  },
  {
   "cell_type": "code",
   "execution_count": 3,
   "id": "29260e9c-41ae-4b52-b440-7b44055728c4",
   "metadata": {
    "tags": []
   },
   "outputs": [],
   "source": [
    "from langchain.document_loaders import PyPDFLoader\n",
    "from langchain.text_splitter import RecursiveCharacterTextSplitter\n",
    "\n",
    "documents = []\n",
    "\n",
    "for report in reports:\n",
    "    loader = PyPDFLoader(report)\n",
    "    documents.extend(loader.load())\n",
    "\n",
    "text_splitter = RecursiveCharacterTextSplitter(\n",
    "    chunk_size = 1500,\n",
    "    chunk_overlap  = 0,\n",
    "    length_function = len,\n",
    ")\n"
   ]
  },
  {
   "cell_type": "code",
   "execution_count": 4,
   "id": "bb8dfd38-7851-4df0-88d6-61faf8850289",
   "metadata": {},
   "outputs": [
    {
     "name": "stderr",
     "output_type": "stream",
     "text": [
      "Using embedded DuckDB without persistence: data will be transient\n"
     ]
    }
   ],
   "source": [
    "from langchain.llms import OpenAI\n",
    "from langchain.embeddings.openai import OpenAIEmbeddings\n",
    "from langchain.chains.question_answering import load_qa_chain\n",
    "from langchain.vectorstores import Chroma\n",
    "from langchain.chains import RetrievalQA\n",
    "\n",
    "texts = text_splitter.split_documents(documents)\n",
    "\n",
    "embeddings = OpenAIEmbeddings()\n",
    "vectorstore = Chroma.from_documents(texts, embeddings)\n",
    "#retriever = vectorstore.as_retriever(search_type=\"similarity\", search_kwargs={\"k\":1})\n",
    "#qa = RetrievalQA.from_chain_type(llm=OpenAI(), chain_type=\"stuff\", retriever=retriever, return_source_documents=True)"
   ]
  },
  {
   "cell_type": "code",
   "execution_count": 5,
   "id": "e7ea1382-a444-4cd5-aa65-1236ac3b9615",
   "metadata": {
    "tags": []
   },
   "outputs": [],
   "source": [
    "from langchain.callbacks.base import CallbackManager\n",
    "from langchain.callbacks.streaming_stdout import StreamingStdOutCallbackHandler\n",
    "from langchain.prompts.prompt import PromptTemplate\n",
    "from langchain.chains import (\n",
    "    ConversationalRetrievalChain,\n",
    "    LLMChain\n",
    ")\n",
    "from langchain.chat_models import ChatOpenAI\n",
    "\n",
    "_template = \"\"\"Given the following conversation and a follow up question, rephrase the follow up question to be a standalone question.\n",
    "Chat History:\n",
    "{chat_history}\n",
    "Follow Up Input: {question}\n",
    "Standalone question:\"\"\"\n",
    "condense_question_prompt = PromptTemplate.from_template(_template)\n",
    "\n",
    "template = \"\"\"You are an AI assistant for answering questions about threat intelligence.\n",
    "You are given the following extracted parts of a long intelligence document and a question. Provide a concise and accurate answer.\n",
    "If you don't know the answer, just say \"I don't have the data to answer that.\" Don't try to make up an answer.\n",
    "Question: {question}\n",
    "=========\n",
    "{context}\n",
    "=========\n",
    "Answer in Markdown:\"\"\"\n",
    "qa_prompt = PromptTemplate(template=template, input_variables=[\"question\", \"context\"])\n",
    "\n",
    "\n",
    "# define two LLM models from OpenAI\n",
    "llm = ChatOpenAI(temperature=0, model_name=\"gpt-3.5-turbo\")\n",
    " \n",
    "streaming_llm = OpenAI(\n",
    "    streaming=True,\n",
    "    callback_manager=CallbackManager([\n",
    "        StreamingStdOutCallbackHandler()\n",
    "    ]),\n",
    "    verbose=True,\n",
    "    max_tokens=150,\n",
    "    temperature=0.2\n",
    ")\n",
    " \n",
    "# use the LLM Chain to create a question creation chain\n",
    "question_generator = LLMChain(\n",
    "    llm=llm,\n",
    "    prompt=condense_question_prompt\n",
    ")\n",
    " \n",
    "# use the streaming LLM to create a question answering chain\n",
    "doc_chain = load_qa_chain(\n",
    "    llm=streaming_llm,\n",
    "    chain_type=\"stuff\",\n",
    "    prompt=qa_prompt\n",
    ")"
   ]
  },
  {
   "cell_type": "code",
   "execution_count": 6,
   "id": "7f2b2139-5eb6-4158-8399-e42f06ffefda",
   "metadata": {},
   "outputs": [],
   "source": [
    "chatbot = ConversationalRetrievalChain(\n",
    "    retriever=vectorstore.as_retriever(),\n",
    "    combine_docs_chain=doc_chain,\n",
    "    question_generator=question_generator,\n",
    "    return_source_documents=True\n",
    ")"
   ]
  },
  {
   "cell_type": "code",
   "execution_count": 7,
   "id": "51550342-8479-46ea-8ebc-f0f154609203",
   "metadata": {
    "tags": []
   },
   "outputs": [
    {
     "name": "stdin",
     "output_type": "stream",
     "text": [
      " List Russian APT groups and their modus operandi\n"
     ]
    },
    {
     "name": "stdout",
     "output_type": "stream",
     "text": [
      "\n",
      "APT28 (Sofacy/Fancy Bear) is associated with the military intelligence GRU and is known for its long-term cyber operations with a clear direction based on Russia’s interests and objectives. SNAKE (Turla) is tied to the Federal Security Service FSB, and APT29 (Cozy Bear/The Dukes) is associated with the FSB and the foreign intelligence service SVR. These groups are known for targeting government and military entities, private companies, and using freely available online tools to masquerade their attacks. Examples of their activities include the GRU cyber operations against the World Anti-Doping Agency (WADA) in September 2016 and against the International Olympic Committee (IOC)\n",
      "\n",
      "References:\n",
      "reports/efia2018.pdf\n",
      "reports/ESET_Industry_Report_Government.pdf\n",
      "reports/efia2019.pdf\n",
      "reports/ESET_Industry_Report_Government.pdf\n",
      "========================\n"
     ]
    },
    {
     "name": "stdin",
     "output_type": "stream",
     "text": [
      " Do the same for North Korea and China\n"
     ]
    },
    {
     "name": "stdout",
     "output_type": "stream",
     "text": [
      "\n",
      "APT groups active in North Korea and China include Turla, Gamaredon, XDSpy, and Sandworm. Turla is known for targeting government and military entities, while Gamaredon is known for targeting governmental organizations in Ukraine. XDSpy has managed to stay under the radar for nine years, and Sandworm is one of the most dangerous APT groups in operation. These groups use a variety of tactics, including fileless malware, custom open-source PowerShell loaders, and exploiting Microsoft Outlook and Microsoft Exchange servers.\n",
      "\n",
      "References:\n",
      "reports/ESET_Industry_Report_Government.pdf\n",
      "reports/ESET_Industry_Report_Government.pdf\n",
      "reports/sapo2022.pdf\n",
      "reports/ESET_Industry_Report_Government.pdf\n",
      "========================\n"
     ]
    },
    {
     "name": "stdin",
     "output_type": "stream",
     "text": [
      " Why is Russa a threat to Sweden?\n"
     ]
    },
    {
     "name": "stdout",
     "output_type": "stream",
     "text": [
      "\n",
      "Ryssland utgör det största hotet mot Sveriges säkerhet. Ryssland har avsikt och förmåga att försvaga Sveriges handlingskraft och säkerhet. Målet för Rysslands aktiviteter mot Sverige är att verka för att Sverige ska vara alliansfritt och hållas utanför försvarsalliansen Nato. Ryssland bedriver kontinuerligt underrättelseinhämtning i Sverige, inklusive från rys\n",
      "\n",
      "References:\n",
      "reports/sapo2021.pdf\n",
      "reports/sapo2020.pdf\n",
      "reports/sapo2022.pdf\n",
      "reports/sapo2019.pdf\n",
      "========================\n"
     ]
    },
    {
     "name": "stdin",
     "output_type": "stream",
     "text": [
      " Is Norway also a target?\n"
     ]
    },
    {
     "name": "stdout",
     "output_type": "stream",
     "text": [
      "\n",
      "Ryssland har avsikt och förmåga att försvaga Sveriges handlingskraft och säkerhet. Detta tar sig uttryck i kontinuerlig rysk säkerhetshotande verksamhet mot det svenska samhället. Rysslands mål är att verka för att Sverige ska vara alliansfritt och hållas utanför försvarsalliansen Nato, samt att stärka den ryska regimens ställning hos den egna befolkningen. F\n",
      "\n",
      "References:\n",
      "reports/sapo2019.pdf\n",
      "reports/sapo2020.pdf\n",
      "reports/sapo2021.pdf\n",
      "reports/sapo2021.pdf\n",
      "========================\n"
     ]
    },
    {
     "name": "stdin",
     "output_type": "stream",
     "text": [
      " Is Russia a threat to Norway?\n"
     ]
    },
    {
     "name": "stdout",
     "output_type": "stream",
     "text": [
      "\n",
      "It appears that Russia has a critical view of Norway's NATO membership and support to the EU's sanctions regime against Russia. Russia has also expressed concern about Norway's increased military activity and closer integration with the United States, which they believe is fuelling anti-Russian sentiment in the Norwegian population. Russia has also demonstrated its own military capability through strategic sorties over the Norwegian Sea and live fire off the coast of Finnmark. Additionally, Russia has expressed concern about NATO activity in the Arctic, which they believe undermines stability and trust between Norway and Russia.\n",
      "\n",
      "References:\n",
      "reports/nis2020.pdf\n",
      "reports/nis2019.pdf\n",
      "reports/nis2017.pdf\n",
      "reports/nis2020.pdf\n",
      "========================\n"
     ]
    },
    {
     "ename": "KeyboardInterrupt",
     "evalue": "Interrupted by user",
     "output_type": "error",
     "traceback": [
      "\u001b[0;31m---------------------------------------------------------------------------\u001b[0m",
      "\u001b[0;31mKeyboardInterrupt\u001b[0m                         Traceback (most recent call last)",
      "Cell \u001b[0;32mIn[7], line 15\u001b[0m\n\u001b[1;32m     13\u001b[0m \u001b[38;5;28mprint\u001b[39m(\u001b[38;5;124m\"\u001b[39m\u001b[38;5;124m========================\u001b[39m\u001b[38;5;124m\"\u001b[39m)\n\u001b[1;32m     14\u001b[0m chat_history\u001b[38;5;241m.\u001b[39mappend((result[\u001b[38;5;124m\"\u001b[39m\u001b[38;5;124mquestion\u001b[39m\u001b[38;5;124m\"\u001b[39m], result[\u001b[38;5;124m\"\u001b[39m\u001b[38;5;124manswer\u001b[39m\u001b[38;5;124m\"\u001b[39m]))\n\u001b[0;32m---> 15\u001b[0m question \u001b[38;5;241m=\u001b[39m \u001b[38;5;28;43minput\u001b[39;49m\u001b[43m(\u001b[49m\u001b[43m)\u001b[49m\n",
      "File \u001b[0;32m~/Desktop/ai/venv/lib/python3.9/site-packages/ipykernel/kernelbase.py:1191\u001b[0m, in \u001b[0;36mKernel.raw_input\u001b[0;34m(self, prompt)\u001b[0m\n\u001b[1;32m   1189\u001b[0m     msg \u001b[38;5;241m=\u001b[39m \u001b[38;5;124m\"\u001b[39m\u001b[38;5;124mraw_input was called, but this frontend does not support input requests.\u001b[39m\u001b[38;5;124m\"\u001b[39m\n\u001b[1;32m   1190\u001b[0m     \u001b[38;5;28;01mraise\u001b[39;00m StdinNotImplementedError(msg)\n\u001b[0;32m-> 1191\u001b[0m \u001b[38;5;28;01mreturn\u001b[39;00m \u001b[38;5;28;43mself\u001b[39;49m\u001b[38;5;241;43m.\u001b[39;49m\u001b[43m_input_request\u001b[49m\u001b[43m(\u001b[49m\n\u001b[1;32m   1192\u001b[0m \u001b[43m    \u001b[49m\u001b[38;5;28;43mstr\u001b[39;49m\u001b[43m(\u001b[49m\u001b[43mprompt\u001b[49m\u001b[43m)\u001b[49m\u001b[43m,\u001b[49m\n\u001b[1;32m   1193\u001b[0m \u001b[43m    \u001b[49m\u001b[38;5;28;43mself\u001b[39;49m\u001b[38;5;241;43m.\u001b[39;49m\u001b[43m_parent_ident\u001b[49m\u001b[43m[\u001b[49m\u001b[38;5;124;43m\"\u001b[39;49m\u001b[38;5;124;43mshell\u001b[39;49m\u001b[38;5;124;43m\"\u001b[39;49m\u001b[43m]\u001b[49m\u001b[43m,\u001b[49m\n\u001b[1;32m   1194\u001b[0m \u001b[43m    \u001b[49m\u001b[38;5;28;43mself\u001b[39;49m\u001b[38;5;241;43m.\u001b[39;49m\u001b[43mget_parent\u001b[49m\u001b[43m(\u001b[49m\u001b[38;5;124;43m\"\u001b[39;49m\u001b[38;5;124;43mshell\u001b[39;49m\u001b[38;5;124;43m\"\u001b[39;49m\u001b[43m)\u001b[49m\u001b[43m,\u001b[49m\n\u001b[1;32m   1195\u001b[0m \u001b[43m    \u001b[49m\u001b[43mpassword\u001b[49m\u001b[38;5;241;43m=\u001b[39;49m\u001b[38;5;28;43;01mFalse\u001b[39;49;00m\u001b[43m,\u001b[49m\n\u001b[1;32m   1196\u001b[0m \u001b[43m\u001b[49m\u001b[43m)\u001b[49m\n",
      "File \u001b[0;32m~/Desktop/ai/venv/lib/python3.9/site-packages/ipykernel/kernelbase.py:1234\u001b[0m, in \u001b[0;36mKernel._input_request\u001b[0;34m(self, prompt, ident, parent, password)\u001b[0m\n\u001b[1;32m   1231\u001b[0m \u001b[38;5;28;01mexcept\u001b[39;00m \u001b[38;5;167;01mKeyboardInterrupt\u001b[39;00m:\n\u001b[1;32m   1232\u001b[0m     \u001b[38;5;66;03m# re-raise KeyboardInterrupt, to truncate traceback\u001b[39;00m\n\u001b[1;32m   1233\u001b[0m     msg \u001b[38;5;241m=\u001b[39m \u001b[38;5;124m\"\u001b[39m\u001b[38;5;124mInterrupted by user\u001b[39m\u001b[38;5;124m\"\u001b[39m\n\u001b[0;32m-> 1234\u001b[0m     \u001b[38;5;28;01mraise\u001b[39;00m \u001b[38;5;167;01mKeyboardInterrupt\u001b[39;00m(msg) \u001b[38;5;28;01mfrom\u001b[39;00m \u001b[38;5;28;01mNone\u001b[39;00m\n\u001b[1;32m   1235\u001b[0m \u001b[38;5;28;01mexcept\u001b[39;00m \u001b[38;5;167;01mException\u001b[39;00m:\n\u001b[1;32m   1236\u001b[0m     \u001b[38;5;28mself\u001b[39m\u001b[38;5;241m.\u001b[39mlog\u001b[38;5;241m.\u001b[39mwarning(\u001b[38;5;124m\"\u001b[39m\u001b[38;5;124mInvalid Message:\u001b[39m\u001b[38;5;124m\"\u001b[39m, exc_info\u001b[38;5;241m=\u001b[39m\u001b[38;5;28;01mTrue\u001b[39;00m)\n",
      "\u001b[0;31mKeyboardInterrupt\u001b[0m: Interrupted by user"
     ]
    }
   ],
   "source": [
    "# create a chat history buffer\n",
    "chat_history = []\n",
    "# gather user input for the first question to kick off the bot\n",
    "question = input()\n",
    "\n",
    "# keep the bot running in a loop to simulate a conversation\n",
    "while True:\n",
    "    result = chatbot(\n",
    "        {\"question\": question, \"chat_history\": chat_history}\n",
    "    )\n",
    "    print(\"\\n\\nReferences:\")\n",
    "    [print(\"{}\".format(document.metadata['source'])) for document in result['source_documents']]\n",
    "    print(\"========================\")\n",
    "    chat_history.append((result[\"question\"], result[\"answer\"]))\n",
    "    question = input()"
   ]
  },
  {
   "cell_type": "code",
   "execution_count": null,
   "id": "245a2264-b449-48d3-9005-36bd79d425f1",
   "metadata": {
    "tags": []
   },
   "outputs": [],
   "source": [
    "'''\n",
    "result = qa_chain({\"question\": \"What is China's modus operandi?\", \"chat_history\": None})\n",
    "print(result)\n",
    "'''"
   ]
  },
  {
   "cell_type": "code",
   "execution_count": null,
   "id": "c7add0c4-925f-4045-b5f9-27b4e22b1a2c",
   "metadata": {
    "tags": []
   },
   "outputs": [],
   "source": [
    "'''\n",
    "query = \"What is China's modus operandi?\"\n",
    "r = qa({\"query\": query})\n",
    "print(f\"Svar:{r.get('result')}\")\n",
    "print(f\"\\nReferenser:\")\n",
    "for document in r.get('source_documents'):\n",
    "    print(f\"Rapport: {document.metadata['source']}, sida {document.metadata['page']}\")\n",
    "'''"
   ]
  },
  {
   "cell_type": "code",
   "execution_count": null,
   "id": "a2cce05e-6204-4a2c-b27a-9b30626f7b38",
   "metadata": {},
   "outputs": [],
   "source": []
  }
 ],
 "metadata": {
  "kernelspec": {
   "display_name": "Python 3 (ipykernel)",
   "language": "python",
   "name": "python3"
  },
  "language_info": {
   "codemirror_mode": {
    "name": "ipython",
    "version": 3
   },
   "file_extension": ".py",
   "mimetype": "text/x-python",
   "name": "python",
   "nbconvert_exporter": "python",
   "pygments_lexer": "ipython3",
   "version": "3.9.6"
  },
  "vscode": {
   "interpreter": {
    "hash": "89477b47a3258639eb73c2d9a4ff5725634a066b94f8ea16f34f754ba8e2c789"
   }
  }
 },
 "nbformat": 4,
 "nbformat_minor": 5
}
